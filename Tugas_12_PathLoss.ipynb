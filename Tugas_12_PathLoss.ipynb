{
  "nbformat": 4,
  "nbformat_minor": 0,
  "metadata": {
    "colab": {
      "name": "Tugas 12 PathLoss.ipynb",
      "provenance": [],
      "include_colab_link": true
    },
    "kernelspec": {
      "name": "python3",
      "display_name": "Python 3"
    }
  },
  "cells": [
    {
      "cell_type": "markdown",
      "metadata": {
        "id": "view-in-github",
        "colab_type": "text"
      },
      "source": [
        "<a href=\"https://colab.research.google.com/github/IzzahAlfatih/Tugas-Python/blob/main/Tugas_12_PathLoss.ipynb\" target=\"_parent\"><img src=\"https://colab.research.google.com/assets/colab-badge.svg\" alt=\"Open In Colab\"/></a>"
      ]
    },
    {
      "cell_type": "code",
      "metadata": {
        "id": "6eijdV7BM_dD"
      },
      "source": [
        "\"\"\"\r\n",
        "Nama  : Muhammmad Izzah Alfatih\r\n",
        "NIM   : 1101190056\r\n",
        "Kelas : TT-43-G2\r\n",
        "\"\"\""
      ],
      "execution_count": null,
      "outputs": []
    },
    {
      "cell_type": "code",
      "metadata": {
        "id": "pxAmtOLZAWZi"
      },
      "source": [
        "import numpy as np"
      ],
      "execution_count": null,
      "outputs": []
    },
    {
      "cell_type": "code",
      "metadata": {
        "id": "ZwEPwrPLAgw1"
      },
      "source": [
        "def PathLoss (d, f, area, ht, hr):\r\n",
        "  #f dalam MHz\r\n",
        "  #d dalam km\r\n",
        "  #ht dalam meter\r\n",
        "  #hr dalam meter\r\n",
        "\r\n",
        "  #Mencari nilai C1 dan C2\r\n",
        "  if (400<=f<=1500):\r\n",
        "    Csatu=69.55\r\n",
        "    Cdua=26.16\r\n",
        "  elif (1500<f<=2000):\r\n",
        "    Csatu=46.3\r\n",
        "    Cdua=33.9\r\n",
        "  else:\r\n",
        "    exit()\r\n",
        "\r\n",
        "  #Mencari nilai Cm\r\n",
        "  if area == \"urban\":\r\n",
        "    Cm=0\r\n",
        "  elif area == \"suburban\":\r\n",
        "    Cm=(-2*((np.log10(f/28))**2))-(5.4)\r\n",
        "  elif area == \"open\":\r\n",
        "    Cm=(-4.78*((np.log10(f)))**2)+((18.33*np.log10(f))-(40.94))\r\n",
        "  else:\r\n",
        "    exit()\r\n",
        "\r\n",
        "  #Mencari nilai a(Hr)\r\n",
        "  a=(((1.1*np.log10(f))-(0.7))*hr)-((1.56*np.log10(f))-(0.8))\r\n",
        "\r\n",
        "  #PathLoss Model\r\n",
        "  ploss= Csatu+(Cdua*np.log10(f))-(13.83*np.log10(ht))-(a)+((44.9-(6.55*np.log10(ht)))*np.log10(d))+Cm\r\n",
        "\r\n",
        "  return ploss"
      ],
      "execution_count": null,
      "outputs": []
    },
    {
      "cell_type": "code",
      "metadata": {
        "colab": {
          "base_uri": "https://localhost:8080/"
        },
        "id": "fbwBhdAcEHYl",
        "outputId": "afd8bf3a-ad54-4938-d6ae-6eb70e1f32a2"
      },
      "source": [
        "#Contoh Perhitungan PathLoss\r\n",
        "\"\"\"\r\n",
        "d = 10 kilometer\r\n",
        "f = 1000 Mhz\r\n",
        "Area = open\r\n",
        "Ht = 75 meter\r\n",
        "Hr = 5 meter\r\n",
        "\"\"\"\r\n",
        "Hasil_Loss=PathLoss(10,1000,'open',75,5)\r\n",
        "print('PathLoss =',Hasil_Loss, 'dB')"
      ],
      "execution_count": null,
      "outputs": [
        {
          "output_type": "stream",
          "text": [
            "PathLoss = 116.62625145207716 dB\n"
          ],
          "name": "stdout"
        }
      ]
    }
  ]
}